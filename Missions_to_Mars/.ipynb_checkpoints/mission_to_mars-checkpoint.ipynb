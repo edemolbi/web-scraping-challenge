{
 "cells": [
  {
   "cell_type": "code",
   "execution_count": 34,
   "id": "c60a574b-9eb8-4911-8850-d64304a7c493",
   "metadata": {},
   "outputs": [],
   "source": [
    "# Import Dependencies\n",
    "import os\n",
    "import requests\n",
    "from bs4 import BeautifulSoup as bs\n",
    "import pandas as pd\n",
    "from splinter import Browser"
   ]
  },
  {
   "cell_type": "code",
   "execution_count": 35,
   "id": "741a9333-10cf-4043-92b5-e0d17bd47a9e",
   "metadata": {},
   "outputs": [],
   "source": [
    "# Function to initialize Splinter browser\n",
    "executable_path = {'executable_path': '/Users/etiennedembele/Documents/web-scraping-challenge/Missions_to_Mars/chromedriver'}\n",
    "browser = Browser('chrome', **executable_path, headless=False)"
   ]
  },
  {
   "cell_type": "code",
   "execution_count": 36,
   "id": "134b95dc-4adc-4206-b29b-dc1476ba6859",
   "metadata": {},
   "outputs": [],
   "source": [
    "mars_data= {}\n",
    "def mars_news_scrape():\n",
    "     browser = init_browser()\n",
    "    #Visit Nasa News url  using splinter module\n",
    "\n",
    "     Nasa_url = 'https://mars.nasa.gov/news/'\n",
    "     browser.visit(Nasa_url)\n",
    "     #create HTMl Object\n",
    "     html = browser.html\n",
    "     #parse HTML with beautiful soup\n",
    "     Nasa_soup = bs(html, 'html.parser')\n",
    "     # Extract title text\n",
    "     nasa_news_title = Nasa_soup.find('div',class_='content_title').find('a').text\n",
    "     print(f\"title {nasa_news_title}\")\n",
    "     mars_data['nasa_news_title']=nasa_news_title\n",
    "     # Extract Paragraph text\n",
    "     nasa_news_paragraph=Nasa_soup.find('div',class_='article_teaser_body').text\n",
    "     mars_data['nasa_news_paragraph'] = nasa_news_paragraph\n",
    "     #print(nasa_news_paragraph)\n",
    "     print(f\"paragraph {nasa_news_paragraph}\")\n",
    "\n",
    "     return mars_data\n"
   ]
  },
  {
   "cell_type": "code",
   "execution_count": 37,
   "id": "4e499625-7322-402c-8f1e-64ecba1b6bdb",
   "metadata": {},
   "outputs": [],
   "source": [
    "  def img_scrape():\n",
    "     browser = init_browser()\n",
    "     #Visit Nasa's JPL Mars Space url  using splinter module\n",
    "     jplNasa_url='https://www.spaceimages-mars.com'\n",
    "     browser.visit(jplNasa_url)\n",
    "     #create HTML object\n",
    "     html = browser.html\n",
    "     soup = bs(html, 'html.parser')\n",
    "\n",
    "     #get base Nasa link\n",
    "     main_url ='https://www.redplanetscience.com'\n",
    "     #get image url from the soup object.\n",
    "     featured_image_url = soup.find('article')['style'].replace('background-image: url(','').replace(');', '')[1:-1]\n",
    "\n",
    "     #Create one full image url link\n",
    "     full_image_url=main_url+featured_image_url\n",
    "     mars_data['full_image_url']= full_image_url\n",
    "     print(full_image_url )     \n",
    "\n",
    "     return mars_data\n"
   ]
  },
  {
   "cell_type": "code",
   "execution_count": 38,
   "id": "347c68b8-9b76-4754-9725-5a678246223a",
   "metadata": {},
   "outputs": [],
   "source": [
    "def mars_weather():\n",
    "     browser = init_browser()\n",
    "     #Visit the Mars Weather twitter account\n",
    "     Tweet_url='https://twitter.com/marswxreport?lang=en'\n",
    "     # Retrieve page with the requests module\n",
    "     browser.visit(Tweet_url)\n",
    "     #create HTML object\n",
    "     html=browser.html\n",
    "     twit_soup=bs(html,'html.parser')\n",
    "\n",
    "     # Extract title text\n",
    "     mars_data['mars_weather'] = twit_soup.find('p',class_='TweetTextSize').text\n",
    "     #print('mars_weather = '+ mars_weather.text)\n",
    "     return mars_data\n"
   ]
  },
  {
   "cell_type": "code",
   "execution_count": 39,
   "id": "458ea5c9-a238-4fbf-a6f4-a8a42f7fb8cd",
   "metadata": {},
   "outputs": [],
   "source": [
    "def mars_facts():\n",
    "     # Visit the Mars Facts webpage\n",
    "     mars_facts_url='https://galaxyfacts-mars.com/'\n",
    "     mars_fact_table=pd.read_html(mars_facts_url)\n",
    "\n",
    "     #Create Dataframe to store table data\n",
    "     df = mars_fact_table[0]\n",
    "     df.columns = ['Mars-Earth Comparison', 'Mars', 'Earth']\n",
    "     mars_facts = df.to_html()\n",
    "     mars_data['mars_facts'] = mars_facts\n",
    "     return mars_data\n"
   ]
  },
  {
   "cell_type": "code",
   "execution_count": 40,
   "id": "152a253d-0c73-419d-97d2-cf002e1e38c5",
   "metadata": {},
   "outputs": [],
   "source": [
    "def mars_hem():\n",
    "\n",
    "     browser = init_browser()\n",
    "     # Visit the Mars Facts webpage\n",
    "    # Visit the USGS Astrogeology site\n",
    "     USGS_url=\"https://astrogeology.usgs.gov/search/results?q=hemisphere+enhanced&k1=target&v1=Mars\"\n",
    "     short_url=\"https://astrogeology.usgs.gov\"\n",
    "\n",
    "     browser.visit(USGS_url)\n",
    "     html = browser.html\n",
    "     soup = bs(html, 'html.parser')\n",
    "     main_url = soup.find_all('div', class_='item')\n",
    "     \n",
    "     hemisphere_img_urls=[]      \n",
    "     for x in main_url:\n",
    "          title = x.find('h3').text\n",
    "          url = x.find('a')['href']\n",
    "          hem_img_url= short_url+url\n",
    "          #print(hem_img_url)\n",
    "          browser.visit(hem_img_url)\n",
    "          html = browser.html\n",
    "          soup = bs(html, 'html.parser')\n",
    "          hemisphere_img_original= soup.find('div',class_='downloads')\n",
    "          hemisphere_img_url=hemisphere_img_original.find('a')['href']\n",
    "          \n",
    "          print(hemisphere_img_url)\n",
    "          img_data=dict({'title':title, 'img_url':hemisphere_img_url})\n",
    "          hemisphere_img_urls.append(img_data)\n",
    "     mars_data['hemisphere_img_urls']=hemisphere_img_urls\n",
    "     return mars_data"
   ]
  },
  {
   "cell_type": "code",
   "execution_count": null,
   "id": "c4c77632-37f1-4f60-8244-fcfa4812755d",
   "metadata": {},
   "outputs": [],
   "source": []
  }
 ],
 "metadata": {
  "kernelspec": {
   "display_name": "Python 3",
   "language": "python",
   "name": "python3"
  },
  "language_info": {
   "codemirror_mode": {
    "name": "ipython",
    "version": 3
   },
   "file_extension": ".py",
   "mimetype": "text/x-python",
   "name": "python",
   "nbconvert_exporter": "python",
   "pygments_lexer": "ipython3",
   "version": "3.8.8"
  },
  "widgets": {
   "application/vnd.jupyter.widget-state+json": {
    "state": {},
    "version_major": 2,
    "version_minor": 0
   }
  }
 },
 "nbformat": 4,
 "nbformat_minor": 5
}
